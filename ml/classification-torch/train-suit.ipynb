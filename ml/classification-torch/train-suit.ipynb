{
 "cells": [
  {
   "cell_type": "code",
   "execution_count": null,
   "id": "59966bd9-f8ae-46dc-8462-0561d8e03105",
   "metadata": {},
   "outputs": [],
   "source": [
    "from model_train import do_train, YoloClsDataset"
   ]
  },
  {
   "cell_type": "code",
   "execution_count": null,
   "id": "94f5286a-6ac7-4a3a-8f96-70c9ea5fb17e",
   "metadata": {},
   "outputs": [],
   "source": [
    "dataset_path = ...\n",
    "\n",
    "train_parameters = {\n",
    "    'run_foldername': 'runs_suit',\n",
    "    'dataset_path': dataset_path,\n",
    "    'batch_size': 32,\n",
    "    'epochs': 20,\n",
    "}\n",
    "# trained_model = do_train(train_parameters)"
   ]
  },
  {
   "cell_type": "code",
   "execution_count": null,
   "id": "b6c8eaa0-a04a-458c-880f-c69427cd5af9",
   "metadata": {},
   "outputs": [],
   "source": [
    "train_dataset = YoloClsDataset(dataset_path, train=True, transform=None, load_only_classes=True)\n",
    "unique_labels = train_dataset.unique_labels\n",
    "unique_labels"
   ]
  },
  {
   "cell_type": "code",
   "execution_count": null,
   "id": "1001a9df-5549-4923-81f0-c663fc73d821",
   "metadata": {},
   "outputs": [],
   "source": []
  }
 ],
 "metadata": {
  "kernelspec": {
   "display_name": "Python 3 (ipykernel)",
   "language": "python",
   "name": "python3"
  },
  "language_info": {
   "codemirror_mode": {
    "name": "ipython",
    "version": 3
   },
   "file_extension": ".py",
   "mimetype": "text/x-python",
   "name": "python",
   "nbconvert_exporter": "python",
   "pygments_lexer": "ipython3",
   "version": "3.10.12"
  }
 },
 "nbformat": 4,
 "nbformat_minor": 5
}
