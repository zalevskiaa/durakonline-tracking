{
 "cells": [
  {
   "cell_type": "code",
   "execution_count": null,
   "metadata": {},
   "outputs": [],
   "source": [
    "from ultralytics import YOLO"
   ]
  },
  {
   "cell_type": "code",
   "execution_count": null,
   "metadata": {},
   "outputs": [],
   "source": [
    "model = YOLO(\"yolov8n.pt\")\n",
    "results = model.train(data=..., epochs=100, imgsz=640)"
   ]
  },
  {
   "cell_type": "code",
   "execution_count": null,
   "metadata": {},
   "outputs": [],
   "source": [
    "\n",
    "\n",
    "import cv2\n",
    "import numpy as np\n",
    "\n",
    "def draw_boxes(yolo_result):\n",
    "    image = result.orig_img\n",
    "    cls = result.boxes.cls.detach().cpu().numpy().astype(int)\n",
    "    boxes = result.boxes.xywh.detach().cpu().numpy().astype(int)\n",
    "    for box in boxes:\n",
    "        x, y, w, h = box\n",
    "        p1, p2 = (x - w//2, y-h//2), (x + w//2, y + h//2)\n",
    "        image = cv2.rectangle(image, p1, p2, (1, 1, 1))\n",
    "    return image\n",
    "\n",
    "# Load a model\n",
    "model = YOLO(...)  # pretrained YOLO11n model\n",
    "\n",
    "# Run batched inference on a list of images\n",
    "results = model([...])  # return a list of Results objects\n",
    "\n",
    "# Process results list\n",
    "for result in results:\n",
    "    image = draw_boxes(result)\n",
    "    cv2.imwrite('output.jpg', image)\n"
   ]
  }
 ],
 "metadata": {
  "kernelspec": {
   "display_name": "venv_ultralytics",
   "language": "python",
   "name": "python3"
  },
  "language_info": {
   "codemirror_mode": {
    "name": "ipython",
    "version": 3
   },
   "file_extension": ".py",
   "mimetype": "text/x-python",
   "name": "python",
   "nbconvert_exporter": "python",
   "pygments_lexer": "ipython3",
   "version": "3.10.12"
  }
 },
 "nbformat": 4,
 "nbformat_minor": 2
}
